{
  "nbformat": 4,
  "nbformat_minor": 0,
  "metadata": {
    "colab": {
      "provenance": [],
      "authorship_tag": "ABX9TyOQT/hOarWaPKIptT30F/LA",
      "include_colab_link": true
    },
    "kernelspec": {
      "name": "python3",
      "display_name": "Python 3"
    },
    "language_info": {
      "name": "python"
    }
  },
  "cells": [
    {
      "cell_type": "markdown",
      "metadata": {
        "id": "view-in-github",
        "colab_type": "text"
      },
      "source": [
        "<a href=\"https://colab.research.google.com/github/Sumit-Nayek/IIT-assignment/blob/main/IIT_ropar_assignment_.ipynb\" target=\"_parent\"><img src=\"https://colab.research.google.com/assets/colab-badge.svg\" alt=\"Open In Colab\"/></a>"
      ]
    },
    {
      "cell_type": "code",
      "execution_count": null,
      "metadata": {
        "id": "eISgYgn52lrr",
        "colab": {
          "base_uri": "https://localhost:8080/"
        },
        "outputId": "eac56edd-11b0-485f-8730-82534e7c4c58"
      },
      "outputs": [
        {
          "output_type": "stream",
          "name": "stdout",
          "text": [
            "       age_group vaccine_status   outcome\n",
            "0       under 50     vaccinated     death\n",
            "1       under 50     vaccinated     death\n",
            "2       under 50     vaccinated     death\n",
            "3       under 50     vaccinated     death\n",
            "4       under 50     vaccinated     death\n",
            "...          ...            ...       ...\n",
            "268161      50 +   unvaccinated  survived\n",
            "268162      50 +   unvaccinated  survived\n",
            "268163      50 +   unvaccinated  survived\n",
            "268164      50 +   unvaccinated  survived\n",
            "268165      50 +   unvaccinated  survived\n",
            "\n",
            "[268166 rows x 3 columns]\n"
          ]
        }
      ],
      "source": [
        "# prompt: read csv file\n",
        "\n",
        "import pandas as pd\n",
        "\n",
        "# Replace 'your_file.csv' with the actual file name\n",
        "df = pd.read_csv('/content/simpsons_paradox_covid.csv')\n",
        "print(df)\n"
      ]
    },
    {
      "cell_type": "code",
      "source": [
        "# prompt: create a contengency table on vacination and outcome\n",
        "\n",
        "import pandas as pd\n",
        "# Create a contingency table\n",
        "contingency_table = pd.crosstab(df['vaccine_status'], df['outcome'])\n",
        "print(contingency_table)\n"
      ],
      "metadata": {
        "colab": {
          "base_uri": "https://localhost:8080/"
        },
        "id": "RATF8SHC4Q90",
        "outputId": "964009f9-73c1-40c0-a6bc-fa9347cd5498"
      },
      "execution_count": null,
      "outputs": [
        {
          "output_type": "stream",
          "name": "stdout",
          "text": [
            "outcome         death  survived\n",
            "vaccine_status                 \n",
            "unvaccinated      253    150799\n",
            "vaccinated        481    116633\n"
          ]
        }
      ]
    },
    {
      "cell_type": "code",
      "source": [
        "# prompt: calculate all possible combination of conditional probability\n",
        "\n",
        "# Calculate conditional probabilities\n",
        "total_vaccinated = contingency_table['death']['vaccinated'] + contingency_table['survived']['vaccinated']\n",
        "total_unvaccinated = contingency_table['death']['unvaccinated'] + contingency_table['survived']['unvaccinated']\n",
        "\n",
        "# P(Positive | Vaccinated)\n",
        "p_positive_given_vaccinated = contingency_table['death']['vaccinated'] / total_vaccinated\n",
        "\n",
        "# P(Negative | Vaccinated)\n",
        "p_negative_given_vaccinated = contingency_table['survived']['vaccinated'] / total_vaccinated\n",
        "\n",
        "# P(Positive | Unvaccinated)\n",
        "p_positive_given_unvaccinated = contingency_table['death']['unvaccinated'] / total_unvaccinated\n",
        "\n",
        "# P(Negative | Unvaccinated)\n",
        "p_negative_given_unvaccinated = contingency_table['survived']['unvaccinated'] / total_unvaccinated\n",
        "\n",
        "print(f\"P(death | Vaccinated): {p_positive_given_vaccinated}\")\n",
        "print(f\"P(survived | Vaccinated): {p_negative_given_vaccinated}\")\n",
        "print(f\"P(death | Unvaccinated): {p_positive_given_unvaccinated}\")\n",
        "print(f\"P(survived | Unvaccinated): {p_negative_given_unvaccinated}\")\n"
      ],
      "metadata": {
        "colab": {
          "base_uri": "https://localhost:8080/"
        },
        "id": "ME_hSjcx4uDj",
        "outputId": "0994b1f1-0005-4597-d6a6-df95a1536afc"
      },
      "execution_count": null,
      "outputs": [
        {
          "output_type": "stream",
          "name": "stdout",
          "text": [
            "P(death | Vaccinated): 0.004107109312294004\n",
            "P(survived | Vaccinated): 0.995892890687706\n",
            "P(death | Unvaccinated): 0.0016749198951354501\n",
            "P(survived | Unvaccinated): 0.9983250801048645\n"
          ]
        }
      ]
    },
    {
      "cell_type": "code",
      "source": [
        "# prompt: now create two contingency table with respect two age group  and calculate all the conditional probabilities\n",
        "\n",
        "import pandas as pd\n",
        "# Filter data for age group 1\n",
        "df_age_group_1 = df[df['age_group'] == 'under 50']\n",
        "\n",
        "# Create a contingency table for age group 1\n",
        "contingency_table_age_group_1 = pd.crosstab(df_age_group_1['vaccine_status'], df_age_group_1['outcome'])\n",
        "print(contingency_table_age_group_1)\n",
        "\n",
        "# Calculate conditional probabilities for age group 1\n",
        "total_vaccinated_age_group_1 = contingency_table_age_group_1['death']['vaccinated'] + contingency_table_age_group_1['survived']['vaccinated']\n",
        "total_unvaccinated_age_group_1 = contingency_table_age_group_1['death']['unvaccinated'] + contingency_table_age_group_1['survived']['unvaccinated']\n",
        "\n",
        "# P(Positive | Vaccinated) for age group 1\n",
        "p_positive_given_vaccinated_age_group_1 = contingency_table_age_group_1['death']['vaccinated'] / total_vaccinated_age_group_1\n",
        "\n",
        "# P(Negative | Vaccinated) for age group 1\n",
        "p_negative_given_vaccinated_age_group_1 = contingency_table_age_group_1['survived']['vaccinated'] / total_vaccinated_age_group_1\n",
        "\n",
        "# P(Positive | Unvaccinated) for age group 1\n",
        "p_positive_given_unvaccinated_age_group_1 = contingency_table_age_group_1['death']['unvaccinated'] / total_unvaccinated_age_group_1\n",
        "\n",
        "# P(Negative | Unvaccinated) for age group 1\n",
        "p_negative_given_unvaccinated_age_group_1 = contingency_table_age_group_1['survived']['unvaccinated'] / total_unvaccinated_age_group_1\n",
        "\n",
        "print(f\"P(death | Vaccinated) for age group 1: {p_positive_given_vaccinated_age_group_1}\")\n",
        "print(f\"P(survived | Vaccinated) for age group 1: {p_negative_given_vaccinated_age_group_1}\")\n",
        "print(f\"P(death | Unvaccinated) for age group 1: {p_positive_given_unvaccinated_age_group_1}\")\n",
        "print(f\"P(survived | Unvaccinated) for age group 1: {p_negative_given_unvaccinated_age_group_1}\")\n",
        "\n",
        "\n",
        "# Filter data for age group 2\n",
        "df_age_group_2 = df[df['age_group'] == '50 +']\n",
        "\n",
        "# Create a contingency table for age group 2\n",
        "contingency_table_age_group_2 = pd.crosstab(df_age_group_2['vaccine_status'], df_age_group_2['outcome'])\n",
        "print(contingency_table_age_group_2)\n",
        "\n",
        "# Calculate conditional probabilities for age group 2\n",
        "total_vaccinated_age_group_2 = contingency_table_age_group_2['death']['vaccinated'] + contingency_table_age_group_2['survived']['vaccinated']\n",
        "total_unvaccinated_age_group_2 = contingency_table_age_group_2['death']['unvaccinated'] + contingency_table_age_group_2['survived']['unvaccinated']\n",
        "\n",
        "# P(Positive | Vaccinated) for age group 2\n",
        "p_positive_given_vaccinated_age_group_2 = contingency_table_age_group_2['death']['vaccinated'] / total_vaccinated_age_group_2\n",
        "\n",
        "# P(Negative | Vaccinated) for age group 2\n",
        "p_negative_given_vaccinated_age_group_2 = contingency_table_age_group_2['survived']['vaccinated'] / total_vaccinated_age_group_2\n",
        "\n",
        "# P(Positive | Unvaccinated) for age group 2\n",
        "p_positive_given_unvaccinated_age_group_2 = contingency_table_age_group_2['death']['unvaccinated'] / total_unvaccinated_age_group_2\n",
        "\n",
        "# P(Negative | Unvaccinated) for age group 2\n",
        "p_negative_given_unvaccinated_age_group_2 = contingency_table_age_group_2['survived']['unvaccinated'] / total_unvaccinated_age_group_2\n",
        "\n",
        "print(f\"P(death | Vaccinated) for age group 2: {p_positive_given_vaccinated_age_group_2}\")\n",
        "print(f\"P(survived | Vaccinated) for age group 2: {p_negative_given_vaccinated_age_group_2}\")\n",
        "print(f\"P(death | Unvaccinated) for age group 2: {p_positive_given_unvaccinated_age_group_2}\")\n",
        "print(f\"P(survived | Unvaccinated) for age group 2: {p_negative_given_unvaccinated_age_group_2}\")\n"
      ],
      "metadata": {
        "colab": {
          "base_uri": "https://localhost:8080/"
        },
        "id": "B7vv3IWn5R4h",
        "outputId": "539f1009-38a6-4aec-c696-42f665797b29"
      },
      "execution_count": null,
      "outputs": [
        {
          "output_type": "stream",
          "name": "stdout",
          "text": [
            "outcome         death  survived\n",
            "vaccine_status                 \n",
            "unvaccinated       48    147564\n",
            "vaccinated         21     89786\n",
            "P(death | Vaccinated) for age group 1: 0.00023383477902613381\n",
            "P(survived | Vaccinated) for age group 1: 0.9997661652209738\n",
            "P(death | Unvaccinated) for age group 1: 0.00032517681489309814\n",
            "P(survived | Unvaccinated) for age group 1: 0.9996748231851069\n",
            "outcome         death  survived\n",
            "vaccine_status                 \n",
            "unvaccinated      205      3235\n",
            "vaccinated        460     26847\n",
            "P(death | Vaccinated) for age group 2: 0.0168454974914857\n",
            "P(survived | Vaccinated) for age group 2: 0.9831545025085143\n",
            "P(death | Unvaccinated) for age group 2: 0.059593023255813955\n",
            "P(survived | Unvaccinated) for age group 2: 0.940406976744186\n"
          ]
        }
      ]
    }
  ]
}