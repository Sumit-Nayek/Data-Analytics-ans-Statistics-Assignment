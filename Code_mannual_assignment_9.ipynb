{
  "nbformat": 4,
  "nbformat_minor": 0,
  "metadata": {
    "colab": {
      "provenance": [],
      "authorship_tag": "ABX9TyP813joLkavflttT+knvOb9",
      "include_colab_link": true
    },
    "kernelspec": {
      "name": "python3",
      "display_name": "Python 3"
    },
    "language_info": {
      "name": "python"
    }
  },
  "cells": [
    {
      "cell_type": "markdown",
      "metadata": {
        "id": "view-in-github",
        "colab_type": "text"
      },
      "source": [
        "<a href=\"https://colab.research.google.com/github/Sumit-Nayek/Data-Analytics-ans-Statistics-Assignment/blob/main/Code_mannual_assignment_9.ipynb\" target=\"_parent\"><img src=\"https://colab.research.google.com/assets/colab-badge.svg\" alt=\"Open In Colab\"/></a>"
      ]
    },
    {
      "cell_type": "code",
      "execution_count": null,
      "metadata": {
        "id": "v7yAKhFBqeFQ"
      },
      "outputs": [],
      "source": [
        "## 1\n",
        "import geopandas as gpd\n",
        "import matplotlib.pyplot as plt\n",
        "\n",
        "# Load GeoJSON file\n",
        "gdf = gpd.read_file('your_geojson_file.geojson')\n",
        "\n",
        "# Plot the GeoDataFrame\n",
        "gdf.plot()\n",
        "plt.show()\n"
      ]
    },
    {
      "cell_type": "code",
      "source": [
        "## 2\n",
        "import rasterio\n",
        "import matplotlib.pyplot as plt\n",
        "\n",
        "# Open GeoTIFF file\n",
        "with rasterio.open('your_geotiff_file.tif') as src:\n",
        "    # Read the image data as a numpy array\n",
        "    img_data = src.read(1)\n",
        "\n",
        "# Plot the image data\n",
        "plt.imshow(img_data, cmap='gray')\n",
        "plt.show()\n"
      ],
      "metadata": {
        "id": "HJZoKQ6nqn_t"
      },
      "execution_count": null,
      "outputs": []
    },
    {
      "cell_type": "code",
      "source": [
        "## 3\n",
        "import geopandas as gpd\n",
        "\n",
        "# Load two GeoDataFrames: points and polygons\n",
        "points = gpd.read_file('points.geojson')\n",
        "polygons = gpd.read_file('polygons.geojson')\n",
        "\n",
        "# Perform spatial join to find points within polygons\n",
        "result = gpd.sjoin(points, polygons, how=\"inner\", op='within')\n",
        "\n",
        "# Show the result\n",
        "print(result)\n"
      ],
      "metadata": {
        "id": "rA0ZOrqoqvgF"
      },
      "execution_count": null,
      "outputs": []
    },
    {
      "cell_type": "code",
      "source": [
        "## 4\n",
        "import osmnx as ox\n",
        "import matplotlib.pyplot as plt\n",
        "\n",
        "# Download a city's street network (e.g., Los Angeles)\n",
        "place_name = \"Los Angeles, California, USA\"\n",
        "graph = ox.graph_from_place(place_name, network_type='all')\n",
        "\n",
        "# Plot the street network\n",
        "ox.plot_graph(ox.project_graph(graph))\n",
        "plt.show()\n"
      ],
      "metadata": {
        "id": "LWVYIGoSqzrV"
      },
      "execution_count": null,
      "outputs": []
    },
    {
      "cell_type": "code",
      "source": [
        "## 5\n",
        "import geopandas as gpd\n",
        "# Load shapefile\n",
        "shapefile = gpd.read_file('your_shapefile.shp')\n",
        "# Save as GeoJSON\n",
        "shapefile.to_file('output_file.geojson', driver='GeoJSON')\n"
      ],
      "metadata": {
        "id": "xOmkoXHTq3kt"
      },
      "execution_count": null,
      "outputs": []
    }
  ]
}