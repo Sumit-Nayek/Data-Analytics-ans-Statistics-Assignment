{
  "nbformat": 4,
  "nbformat_minor": 0,
  "metadata": {
    "colab": {
      "provenance": [],
      "authorship_tag": "ABX9TyO1xhyq/k/uKfmX3pSzUxmy",
      "include_colab_link": true
    },
    "kernelspec": {
      "name": "python3",
      "display_name": "Python 3"
    },
    "language_info": {
      "name": "python"
    }
  },
  "cells": [
    {
      "cell_type": "markdown",
      "metadata": {
        "id": "view-in-github",
        "colab_type": "text"
      },
      "source": [
        "<a href=\"https://colab.research.google.com/github/Sumit-Nayek/Data-Analytics-ans-Statistics-Assignment/blob/main/Code_mannual_assignment_6.ipynb\" target=\"_parent\"><img src=\"https://colab.research.google.com/assets/colab-badge.svg\" alt=\"Open In Colab\"/></a>"
      ]
    },
    {
      "cell_type": "code",
      "execution_count": null,
      "metadata": {
        "colab": {
          "base_uri": "https://localhost:8080/"
        },
        "id": "1zENyZoHt5Xc",
        "outputId": "3cb15a3c-d511-486e-da29-fb3d762a290e"
      },
      "outputs": [
        {
          "output_type": "stream",
          "name": "stdout",
          "text": [
            "Probability of exactly 140 successes: 0.06146171679476929\n"
          ]
        }
      ],
      "source": [
        "## 1 Binomial Distribution\n",
        "def factorial(n):\n",
        "    result = 1\n",
        "    for i in range(1, n+1):\n",
        "        result *= i\n",
        "    return result\n",
        "\n",
        "def binomial_pmf(n, k, p):\n",
        "    # Compute binomial coefficient: n choose k\n",
        "    binomial_coeff = factorial(n) / (factorial(k) * factorial(n - k))\n",
        "    # Binomial PMF formula\n",
        "    return binomial_coeff * (p ** k) * ((1 - p) ** (n - k))\n",
        "\n",
        "# Parameters\n",
        "n = 200  # Number of trials\n",
        "p = 0.7  # Probability of success\n",
        "k = 140  # Number of successes\n",
        "\n",
        "# Probability of exactly 140 participants developing immunity\n",
        "prob_exact_140 = binomial_pmf(n, k, p)\n",
        "print(f\"Probability of exactly 140 successes: {prob_exact_140}\")\n"
      ]
    },
    {
      "cell_type": "code",
      "source": [
        "## 2 Poission distribution\n",
        "import math\n",
        "\n",
        "def poisson_pmf(k, lam):\n",
        "    # Manually calculate e^-lambda\n",
        "    exp_neg_lambda = sum([(-lam)**i / factorial(i) for i in range(20)])  # Approximation for e^-lambda\n",
        "    return (lam ** k) * exp_neg_lambda / factorial(k)\n",
        "# Parameters\n",
        "lambda_call_rate = 15  # Average calls per hour\n",
        "k_exact = 20  # Exact number of calls\n",
        "# Probability of exactly 20 calls\n",
        "prob_exact_20 = poisson_pmf(k_exact, lambda_call_rate)\n",
        "print(f\"Probability of exactly 20 calls: {prob_exact_20}\")\n"
      ],
      "metadata": {
        "colab": {
          "base_uri": "https://localhost:8080/"
        },
        "id": "_Uw6J5Z-uxKC",
        "outputId": "3107e680-22aa-4ade-dd75-864bd63bb217"
      },
      "execution_count": null,
      "outputs": [
        {
          "output_type": "stream",
          "name": "stdout",
          "text": [
            "Probability of exactly 20 calls: -10806601196.406399\n"
          ]
        }
      ]
    },
    {
      "cell_type": "code",
      "source": [
        "## 3 Hypergeometric distribution\n",
        "def binomial_coeff(n, k):\n",
        "    return factorial(n) / (factorial(k) * factorial(n - k))\n",
        "def hypergeometric_pmf(K, N, n, k):\n",
        "    return (binomial_coeff(K, k) * binomial_coeff(N - K, n - k)) / binomial_coeff(N, n)\n",
        "# Parameters\n",
        "total_parts = 200  # Total parts\n",
        "defective_parts = 30  # Defective parts\n",
        "sample_size = 20  # Sampled parts\n",
        "successes_in_sample = 4  # Defective parts in the sample\n",
        "\n",
        "# Probability of exactly 4 defective parts\n",
        "prob_exact_4_defective = hypergeometric_pmf(defective_parts, total_parts, sample_size, successes_in_sample)\n",
        "print(f\"Probability of exactly 4 defective parts: {prob_exact_4_defective}\")\n"
      ],
      "metadata": {
        "colab": {
          "base_uri": "https://localhost:8080/"
        },
        "id": "6h5l9mYCu94R",
        "outputId": "20abb94a-acef-4eff-c0c6-8bc43c252ba8"
      },
      "execution_count": null,
      "outputs": [
        {
          "output_type": "stream",
          "name": "stdout",
          "text": [
            "Probability of exactly 4 defective parts: 0.1906661122638545\n"
          ]
        }
      ]
    },
    {
      "cell_type": "code",
      "source": [
        "## 4 Student’s t-test for Small Sample Data\n",
        "import math\n",
        "\n",
        "# Sample data (daily water consumption in liters)\n",
        "sample_data = [140, 155, 149, 152, 148, 154, 157, 145, 151, 153]\n",
        "population_mean = 150  # Claimed mean daily consumption\n",
        "n = len(sample_data)\n",
        "# Calculate sample mean\n",
        "sample_mean = sum(sample_data) / n\n",
        "# Calculate sample standard deviation\n",
        "variance = sum([(x - sample_mean) ** 2 for x in sample_data]) / (n - 1)\n",
        "std_dev = math.sqrt(variance)\n",
        "# Calculate t-statistic\n",
        "t_stat = (sample_mean - population_mean) / (std_dev / math.sqrt(n))\n",
        "\n",
        "print(f\"T-statistic: {t_stat}\")\n"
      ],
      "metadata": {
        "colab": {
          "base_uri": "https://localhost:8080/"
        },
        "id": "Zssu9nVnvI9Z",
        "outputId": "60ab4f24-208d-46cc-b660-a9b3a3f2eb32"
      },
      "execution_count": null,
      "outputs": [
        {
          "output_type": "stream",
          "name": "stdout",
          "text": [
            "T-statistic: 0.2489219440935103\n"
          ]
        }
      ]
    },
    {
      "cell_type": "code",
      "source": [
        "## 5 Chi-square Goodness of Fit: Blood Type Distribution\n",
        "# Observed and expected frequencies\n",
        "observed = [120, 100, 30, 150]  # Blood types: A, B, AB, O\n",
        "total = 400  # Total samples\n",
        "expected_proportions = [0.3, 0.25, 0.1, 0.35]\n",
        "expected = [total * p for p in expected_proportions]\n",
        "# Calculate Chi-square statistic\n",
        "chi2_stat = sum([(o - e) ** 2 / e for o, e in zip(observed, expected)])\n",
        "\n",
        "print(f\"Chi-square statistic: {chi2_stat}\")\n"
      ],
      "metadata": {
        "colab": {
          "base_uri": "https://localhost:8080/"
        },
        "id": "sR7ljb7PvUE6",
        "outputId": "dd799be9-14e9-49eb-927d-8408ab89b3c2"
      },
      "execution_count": null,
      "outputs": [
        {
          "output_type": "stream",
          "name": "stdout",
          "text": [
            "Chi-square statistic: 3.2142857142857144\n"
          ]
        }
      ]
    }
  ]
}