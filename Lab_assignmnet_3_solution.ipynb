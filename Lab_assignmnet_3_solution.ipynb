{
  "nbformat": 4,
  "nbformat_minor": 0,
  "metadata": {
    "colab": {
      "provenance": [],
      "authorship_tag": "ABX9TyMAmcOoYGGKHaiNrPlafeKx",
      "include_colab_link": true
    },
    "kernelspec": {
      "name": "python3",
      "display_name": "Python 3"
    },
    "language_info": {
      "name": "python"
    }
  },
  "cells": [
    {
      "cell_type": "markdown",
      "metadata": {
        "id": "view-in-github",
        "colab_type": "text"
      },
      "source": [
        "<a href=\"https://colab.research.google.com/github/Sumit-Nayek/Data-Analytics-ans-Statistics-Assignment/blob/main/Lab_assignmnet_3_solution.ipynb\" target=\"_parent\"><img src=\"https://colab.research.google.com/assets/colab-badge.svg\" alt=\"Open In Colab\"/></a>"
      ]
    },
    {
      "cell_type": "code",
      "execution_count": null,
      "metadata": {
        "colab": {
          "base_uri": "https://localhost:8080/"
        },
        "id": "bEnzBLfNXUE8",
        "outputId": "69b45710-8b07-4947-d701-a182816fe57b"
      },
      "outputs": [
        {
          "output_type": "stream",
          "name": "stdout",
          "text": [
            "Probability of getting exactly 3 heads in 5 flips: 0.3125\n"
          ]
        }
      ],
      "source": [
        "# Q1\n",
        "def binomial_probability(n, k, p):\n",
        "    # Calculate binomial coefficient (n choose k)\n",
        "    def binomial_coefficient(n, k):\n",
        "        if k > n:\n",
        "            return 0\n",
        "        if k == 0 or k == n:\n",
        "            return 1\n",
        "        numerator = 1\n",
        "        denominator = 1\n",
        "        for i in range(1, k + 1):\n",
        "            numerator *= (n - i + 1)\n",
        "            denominator *= i\n",
        "        return numerator // denominator\n",
        "\n",
        "    # Calculate probability\n",
        "    coefficient = binomial_coefficient(n, k)\n",
        "    probability = coefficient * (p ** k) * ((1 - p) ** (n - k))\n",
        "    return probability\n",
        "\n",
        "# Example usage\n",
        "n = 5  # number of trials\n",
        "k = 3  # number of successes\n",
        "p = 0.5  # probability of success\n",
        "prob = binomial_probability(n, k, p)\n",
        "print(f\"Probability of getting exactly {k} heads in {n} flips: {prob:.4f}\")\n"
      ]
    },
    {
      "cell_type": "code",
      "source": [
        "## Q2\n",
        "import math\n",
        "\n",
        "def poisson_probability(lambd, k):\n",
        "    # Calculate probability using the Poisson formula\n",
        "    return (lambd ** k) * (math.exp(-lambd)) / math.factorial(k)\n",
        "\n",
        "# Example usage\n",
        "lambd = 2  # average rate\n",
        "k = 3  # number of events\n",
        "prob = poisson_probability(lambd, k)\n",
        "print(f\"Probability of observing {k} events: {prob:.4f}\")\n"
      ],
      "metadata": {
        "colab": {
          "base_uri": "https://localhost:8080/"
        },
        "id": "s1OQ1qlOXgHJ",
        "outputId": "7d3124d2-92ac-4282-9946-43df384f5612"
      },
      "execution_count": null,
      "outputs": [
        {
          "output_type": "stream",
          "name": "stdout",
          "text": [
            "Probability of observing 3 events: 0.1804\n"
          ]
        }
      ]
    },
    {
      "cell_type": "code",
      "source": [
        "### Q3\n",
        "def hypergeometric_probability(N, K, n, k):\n",
        "    # Calculate binomial coefficient\n",
        "    def binomial_coefficient(n, k):\n",
        "        if k > n:\n",
        "            return 0\n",
        "        if k == 0 or k == n:\n",
        "            return 1\n",
        "        numerator = 1\n",
        "        denominator = 1\n",
        "        for i in range(1, k + 1):\n",
        "            numerator *= (n - i + 1)\n",
        "            denominator *= i\n",
        "        return numerator // denominator\n",
        "\n",
        "    # Hypergeometric probability formula\n",
        "    return (binomial_coefficient(K, k) * binomial_coefficient(N - K, n - k)) / binomial_coefficient(N, n)\n",
        "\n",
        "# Example usage\n",
        "N = 8  # total balls\n",
        "K = 5  # red balls\n",
        "n = 4  # balls drawn\n",
        "k = 2  # red balls drawn\n",
        "prob = hypergeometric_probability(N, K, n, k)\n",
        "print(f\"Probability of drawing {k} red balls: {prob:.4f}\")\n"
      ],
      "metadata": {
        "colab": {
          "base_uri": "https://localhost:8080/"
        },
        "id": "eau3iNTVXoJI",
        "outputId": "88bd78ba-986d-4720-fd93-3a26732c89fd"
      },
      "execution_count": null,
      "outputs": [
        {
          "output_type": "stream",
          "name": "stdout",
          "text": [
            "Probability of drawing 2 red balls: 0.4286\n"
          ]
        }
      ]
    }
  ]
}