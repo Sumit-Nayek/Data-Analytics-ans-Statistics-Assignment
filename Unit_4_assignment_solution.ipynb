{
  "nbformat": 4,
  "nbformat_minor": 0,
  "metadata": {
    "colab": {
      "provenance": [],
      "authorship_tag": "ABX9TyNJcacFats0EWgTyXLol9wY",
      "include_colab_link": true
    },
    "kernelspec": {
      "name": "python3",
      "display_name": "Python 3"
    },
    "language_info": {
      "name": "python"
    }
  },
  "cells": [
    {
      "cell_type": "markdown",
      "metadata": {
        "id": "view-in-github",
        "colab_type": "text"
      },
      "source": [
        "<a href=\"https://colab.research.google.com/github/Sumit-Nayek/Data-Analytics-ans-Statistics-Assignment/blob/main/Unit_4_assignment_solution.ipynb\" target=\"_parent\"><img src=\"https://colab.research.google.com/assets/colab-badge.svg\" alt=\"Open In Colab\"/></a>"
      ]
    },
    {
      "cell_type": "markdown",
      "source": [
        "### Practical Question set 1\n"
      ],
      "metadata": {
        "id": "3PLmzpKGLBQR"
      }
    },
    {
      "cell_type": "code",
      "execution_count": null,
      "metadata": {
        "colab": {
          "base_uri": "https://localhost:8080/"
        },
        "id": "vdp1tTO4yjR4",
        "outputId": "bad6786f-1df5-4114-caf5-0f3615530b1d"
      },
      "outputs": [
        {
          "output_type": "stream",
          "name": "stdout",
          "text": [
            "Probability of drawing a red ball: 0.50\n"
          ]
        }
      ],
      "source": [
        "#Q1 (Classical probability)\n",
        "red_balls = 5\n",
        "total_balls = 5 + 3 + 2\n",
        "P_red = red_balls / total_balls\n",
        "print(f\"Probability of drawing a red ball: {P_red:.2f}\")\n"
      ]
    },
    {
      "cell_type": "code",
      "source": [
        "#Q2 (Relative frequancy)\n",
        "heads_count = 48\n",
        "total_tosses = 100\n",
        "P_heads = heads_count / total_tosses\n",
        "print(f\"Estimated probability of heads: {P_heads:.2f}\")\n"
      ],
      "metadata": {
        "colab": {
          "base_uri": "https://localhost:8080/"
        },
        "id": "HXSXe-ShF_Kq",
        "outputId": "04e23399-7837-4784-e925-e040b6602e3a"
      },
      "execution_count": null,
      "outputs": [
        {
          "output_type": "stream",
          "name": "stdout",
          "text": [
            "Estimated probability of heads: 0.48\n"
          ]
        }
      ]
    },
    {
      "cell_type": "code",
      "source": [
        "#Q3 (Conditional probability)\n",
        "P_ace_given_spade = 1 / 13\n",
        "print(f\"Conditional probability of ace given spade: {P_ace_given_spade:.2f}\")\n"
      ],
      "metadata": {
        "colab": {
          "base_uri": "https://localhost:8080/"
        },
        "id": "X_WPm6R2GC3C",
        "outputId": "12f62091-a95c-43e4-a394-fb664b7c662c"
      },
      "execution_count": null,
      "outputs": [
        {
          "output_type": "stream",
          "name": "stdout",
          "text": [
            "Conditional probability of ace given spade: 0.08\n"
          ]
        }
      ]
    },
    {
      "cell_type": "code",
      "source": [
        "#Q4 (Adition rule)\n",
        "P_king = 4 / 52\n",
        "P_heart = 13 / 52\n",
        "P_king_and_heart = 1 / 52\n",
        "\n",
        "P_king_or_heart = P_king + P_heart - P_king_and_heart\n",
        "print(f\"Probability of drawing a King or a Heart: {P_king_or_heart:.2f}\")\n"
      ],
      "metadata": {
        "colab": {
          "base_uri": "https://localhost:8080/"
        },
        "id": "4v4zlilsGGfS",
        "outputId": "df0baff0-4158-4ab8-8e25-2c69d7e8566b"
      },
      "execution_count": null,
      "outputs": [
        {
          "output_type": "stream",
          "name": "stdout",
          "text": [
            "Probability of drawing a King or a Heart: 0.31\n"
          ]
        }
      ]
    },
    {
      "cell_type": "code",
      "source": [
        "#5 (Bayes theorem)\n",
        "P_disease = 0.01\n",
        "P_positive_given_disease = 0.9\n",
        "P_positive_given_no_disease = 0.05\n",
        "P_no_disease = 1 - P_disease\n",
        "\n",
        "# Total probability of testing positive\n",
        "P_positive = (P_positive_given_disease * P_disease) + (P_positive_given_no_disease * P_no_disease)\n",
        "\n",
        "# Applying Bayes' Theorem\n",
        "P_disease_given_positive = (P_positive_given_disease * P_disease) / P_positive\n",
        "print(f\"Probability of having the disease given a positive test: {P_disease_given_positive:.4f}\")\n"
      ],
      "metadata": {
        "colab": {
          "base_uri": "https://localhost:8080/"
        },
        "id": "mklP_Sa0GKVp",
        "outputId": "d453fbee-bec5-4d23-fdd7-01f1c8f4d598"
      },
      "execution_count": null,
      "outputs": [
        {
          "output_type": "stream",
          "name": "stdout",
          "text": [
            "Probability of having the disease given a positive test: 0.1538\n"
          ]
        }
      ]
    },
    {
      "cell_type": "markdown",
      "source": [
        "### Practical Question set 2"
      ],
      "metadata": {
        "id": "mFSPpOMYKFXJ"
      }
    },
    {
      "cell_type": "code",
      "source": [
        "## Q1\n",
        "# Given data\n",
        "P_spam = 0.60\n",
        "P_offer_given_spam = 0.40\n",
        "P_offer_given_not_spam = 0.05\n",
        "P_not_spam = 1 - P_spam\n",
        "# Total probability of seeing the word \"offer\"\n",
        "P_offer = (P_offer_given_spam * P_spam) + (P_offer_given_not_spam * P_not_spam)\n",
        "\n",
        "# Applying Bayes' Theorem\n",
        "P_spam_given_offer = (P_offer_given_spam * P_spam) / P_offer\n",
        "\n",
        "print(f\"Probability the email is spam given it contains 'offer': {P_spam_given_offer:.4f}\")\n"
      ],
      "metadata": {
        "colab": {
          "base_uri": "https://localhost:8080/"
        },
        "id": "55PqT57WKH0o",
        "outputId": "572344ce-40b0-4cb0-976a-e959b7e8867d"
      },
      "execution_count": null,
      "outputs": [
        {
          "output_type": "stream",
          "name": "stdout",
          "text": [
            "Probability the email is spam given it contains 'offer': 0.9231\n"
          ]
        }
      ]
    },
    {
      "cell_type": "code",
      "source": [
        "##Q2\n",
        "# Probability of drawing two aces without replacement\n",
        "P_ace_1st_draw = 4 / 52\n",
        "P_ace_2nd_draw_given_ace_1st = 3 / 51\n",
        "\n",
        "P_two_aces = P_ace_1st_draw * P_ace_2nd_draw_given_ace_1st\n",
        "print(f\"Probability of drawing two aces: {P_two_aces:.4f}\")\n"
      ],
      "metadata": {
        "colab": {
          "base_uri": "https://localhost:8080/"
        },
        "id": "jhyXIyqEKS_A",
        "outputId": "6d20a7a6-710b-48a7-c198-3543f2a43ca8"
      },
      "execution_count": null,
      "outputs": [
        {
          "output_type": "stream",
          "name": "stdout",
          "text": [
            "Probability of drawing two aces: 0.0045\n"
          ]
        }
      ]
    },
    {
      "cell_type": "code",
      "source": [
        "##Q3\n",
        "# Given probabilities\n",
        "P_M1, P_M2, P_M3 = 0.20, 0.30, 0.50\n",
        "P_defective_given_M1, P_defective_given_M2, P_defective_given_M3 = 0.02, 0.04, 0.05\n",
        "# Total probability of defective\n",
        "P_defective = (P_defective_given_M1 * P_M1) + (P_defective_given_M2 * P_M2) + (P_defective_given_M3 * P_M3)\n",
        "# Applying Bayes' Theorem\n",
        "P_M3_given_defective = (P_defective_given_M3 * P_M3) / P_defective\n",
        "\n",
        "print(f\"Probability that the defective item came from M3: {P_M3_given_defective:.4f}\")\n"
      ],
      "metadata": {
        "colab": {
          "base_uri": "https://localhost:8080/"
        },
        "id": "K3aFVmOBKYgQ",
        "outputId": "a51ec9cd-9fd2-41d7-b9e5-0b6b81120778"
      },
      "execution_count": null,
      "outputs": [
        {
          "output_type": "stream",
          "name": "stdout",
          "text": [
            "Probability that the defective item came from M3: 0.6098\n"
          ]
        }
      ]
    },
    {
      "cell_type": "code",
      "source": [
        "##Q4\n",
        "# Given probabilities\n",
        "P_forecast_rain = 0.60\n",
        "P_rain_given_forecast_rain = 0.80\n",
        "P_rain_given_forecast_no_rain = 0.10\n",
        "P_forecast_no_rain = 1 - P_forecast_rain\n",
        "\n",
        "# Total probability of rain\n",
        "P_rain = (P_rain_given_forecast_rain * P_forecast_rain) + (P_rain_given_forecast_no_rain * P_forecast_no_rain)\n",
        "print(f\"Probability of rain tomorrow: {P_rain:.4f}\")\n"
      ],
      "metadata": {
        "colab": {
          "base_uri": "https://localhost:8080/"
        },
        "id": "BAZq8sgHKf9o",
        "outputId": "4815476d-d7e7-453b-99cd-731a16a6fc03"
      },
      "execution_count": null,
      "outputs": [
        {
          "output_type": "stream",
          "name": "stdout",
          "text": [
            "Probability of rain tomorrow: 0.5200\n"
          ]
        }
      ]
    }
  ]
}