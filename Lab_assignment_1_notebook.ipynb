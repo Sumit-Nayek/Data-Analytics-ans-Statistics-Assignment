{
  "nbformat": 4,
  "nbformat_minor": 0,
  "metadata": {
    "colab": {
      "provenance": [],
      "include_colab_link": true
    },
    "kernelspec": {
      "name": "python3",
      "display_name": "Python 3"
    },
    "language_info": {
      "name": "python"
    }
  },
  "cells": [
    {
      "cell_type": "markdown",
      "metadata": {
        "id": "view-in-github",
        "colab_type": "text"
      },
      "source": [
        "<a href=\"https://colab.research.google.com/github/Sumit-Nayek/IIT-assignment/blob/main/Lab_assignment_1_notebook.ipynb\" target=\"_parent\"><img src=\"https://colab.research.google.com/assets/colab-badge.svg\" alt=\"Open In Colab\"/></a>"
      ]
    },
    {
      "cell_type": "markdown",
      "source": [
        "# Lab Assignment 1"
      ],
      "metadata": {
        "id": "k-Aw6NbPvulU"
      }
    },
    {
      "cell_type": "markdown",
      "source": [
        "## Q1 You play a game where you first flip a fair coin, and then based on the result:\n",
        "● If the coin lands Heads, you roll a six-sided die.\n",
        "● If the coin lands Tails, you roll a six-sided die.\n",
        "What is the probability that you rolled a 5, given that you flipped Heads?"
      ],
      "metadata": {
        "id": "ICR1wRgxv19T"
      }
    },
    {
      "cell_type": "code",
      "execution_count": null,
      "metadata": {
        "colab": {
          "base_uri": "https://localhost:8080/"
        },
        "id": "Tj0Y7wvss_RN",
        "outputId": "87334d84-5680-4abe-9977-f6469487d100"
      },
      "outputs": [
        {
          "output_type": "stream",
          "name": "stdout",
          "text": [
            "Total Heads: 49995\n",
            "Number of times a 5 was rolled after Heads: 8437\n",
            "Estimated Probability of rolling a 5 given Heads: 0.16875687568756875\n"
          ]
        }
      ],
      "source": [
        "# Import necessary libraries\n",
        "import random\n",
        "\n",
        "# Function for simulating coin flip and dice roll\n",
        "def coin_and_die_simulation(n):\n",
        "    heads_and_five = 0  # Count of getting heads and rolling a 5\n",
        "    heads_count = 0     # Total heads flipped\n",
        "\n",
        "    for _ in range(n):\n",
        "        # Flip a fair coin\n",
        "        coin = random.choice(['Heads', 'Tails'])\n",
        "\n",
        "        # Roll a six-sided die after every coin flip\n",
        "        die_roll = random.randint(1, 6)  # Roll the die\n",
        "\n",
        "        # If the coin was heads, count how often we get 5\n",
        "        if coin == 'Heads':\n",
        "            heads_count += 1\n",
        "            if die_roll == 5:\n",
        "                heads_and_five += 1\n",
        "\n",
        "    # Probability P(5 | Heads)\n",
        "    if heads_count > 0:\n",
        "        prob_5_given_heads = heads_and_five / heads_count\n",
        "    else:\n",
        "        prob_5_given_heads = 0\n",
        "\n",
        "    return prob_5_given_heads, heads_and_five, heads_count\n",
        "\n",
        "# Run the simulation for a large number of trials\n",
        "n_trials = 100000  # Larger number of trials for better estimation\n",
        "prob_5_given_heads, heads_and_five, heads_count = coin_and_die_simulation(n_trials)\n",
        "\n",
        "# Display results\n",
        "print(f\"Total Heads: {heads_count}\")\n",
        "print(f\"Number of times a 5 was rolled after Heads: {heads_and_five}\")\n",
        "print(f\"Estimated Probability of rolling a 5 given Heads: {prob_5_given_heads}\")"
      ]
    },
    {
      "cell_type": "markdown",
      "source": [
        "##Q2 You have a deck of 52 cards. Two cards are drawn one after the other without replacement. What is the probability that the second card drawn is a King, given that the first card was also a King?"
      ],
      "metadata": {
        "id": "XsOiWUSEwqaz"
      }
    },
    {
      "cell_type": "code",
      "source": [
        "import random\n",
        "\n",
        "# Function to simulate the drawing of two cards from the deck\n",
        "def simulate_two_draws(n_trials):\n",
        "    success_count = 0  # Count of times the second card is a King, given the first is also a King\n",
        "    first_king_count = 0  # Count of times the first card is a King\n",
        "\n",
        "    for _ in range(n_trials):\n",
        "        # Create a deck of 52 cards: 4 Kings and 48 non-Kings\n",
        "        deck = ['King'] * 4 + ['Other'] * 48\n",
        "\n",
        "        # Shuffle the deck\n",
        "        random.shuffle(deck)\n",
        "\n",
        "        # Draw two cards without replacement\n",
        "        first_card = deck.pop(0)\n",
        "        second_card = deck.pop(0)\n",
        "\n",
        "        # Check if the first card is a King\n",
        "        if first_card == 'King':\n",
        "            first_king_count += 1\n",
        "            # Check if the second card is also a King\n",
        "            if second_card == 'King':\n",
        "                success_count += 1\n",
        "\n",
        "    # Probability estimation: P(Second King | First King)\n",
        "    if first_king_count > 0:\n",
        "        prob = success_count / first_king_count\n",
        "    else:\n",
        "        prob = 0\n",
        "    return prob\n",
        "\n",
        "# Set the number of trials for the simulation\n",
        "n_trials = 100000\n",
        "\n",
        "# Run the simulation and get the estimated probability\n",
        "estimated_prob = simulate_two_draws(n_trials)\n",
        "\n",
        "# Display the result\n",
        "print(f\"Estimated Probability that the second card is a King given the first is also a King: {estimated_prob}\")"
      ],
      "metadata": {
        "colab": {
          "base_uri": "https://localhost:8080/"
        },
        "id": "jhjLrDv5DC20",
        "outputId": "4cb6149f-296c-4817-ebf3-edf50166d0ac"
      },
      "execution_count": null,
      "outputs": [
        {
          "output_type": "stream",
          "name": "stdout",
          "text": [
            "Estimated Probability that the second card is a King given the first is also a King: 0.0597265221878225\n"
          ]
        }
      ]
    },
    {
      "cell_type": "markdown",
      "source": [
        "##Q3 You draw two cards from a well-shuffled deck of 52 cards without replacement. What is the probability that the second card is an Ace, given that the first card was a King?"
      ],
      "metadata": {
        "id": "X_Wi9zvWEV8j"
      }
    },
    {
      "cell_type": "code",
      "source": [
        "\n",
        "import random\n",
        "\n",
        "# Function to simulate drawing two cards from the deck\n",
        "def simulate_two_draws_for_ace(n_trials):\n",
        "    success_count = 0  # Count of times the second card is an Ace, given the first is a King\n",
        "    first_king_count = 0  # Count of times the first card is a King\n",
        "\n",
        "    for _ in range(n_trials):\n",
        "        # Create a deck of 52 cards: 4 Kings, 4 Aces, and 44 other cards\n",
        "        deck = ['King'] * 4 + ['Ace'] * 4 + ['Other'] * 44\n",
        "\n",
        "        # Shuffle the deck\n",
        "        random.shuffle(deck)\n",
        "\n",
        "        # Draw two cards without replacement\n",
        "        first_card = deck.pop(0)\n",
        "        second_card = deck.pop(0)\n",
        "\n",
        "        # Check if the first card is a King\n",
        "        if first_card == 'King':\n",
        "            first_king_count += 1\n",
        "            # Check if the second card is an Ace\n",
        "            if second_card == 'Ace':\n",
        "                success_count += 1\n",
        "\n",
        "    # Probability estimation: P(Second Ace | First King)\n",
        "    if first_king_count > 0:\n",
        "        prob = success_count / first_king_count\n",
        "    else:\n",
        "        prob = 0\n",
        "    return prob\n",
        "\n",
        "# Set the number of trials for the simulation\n",
        "n_trials = 100000\n",
        "\n",
        "# Run the simulation and get the estimated probability\n",
        "estimated_prob = simulate_two_draws_for_ace(n_trials)\n",
        "\n",
        "# Display the result\n",
        "print(f\"Estimated Probability that the second card is an Ace given the first is a King: {estimated_prob}\")"
      ],
      "metadata": {
        "id": "0c4Ye1DHElzb",
        "outputId": "669a7ea5-dc63-46f9-c16b-46a53291612e",
        "colab": {
          "base_uri": "https://localhost:8080/"
        }
      },
      "execution_count": null,
      "outputs": [
        {
          "output_type": "stream",
          "name": "stdout",
          "text": [
            "Estimated Probability that the second card is an Ace given the first is a King: 0.08018563877787804\n"
          ]
        }
      ]
    }
  ]
}