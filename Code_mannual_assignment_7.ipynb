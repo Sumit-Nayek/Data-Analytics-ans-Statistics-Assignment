{
  "nbformat": 4,
  "nbformat_minor": 0,
  "metadata": {
    "colab": {
      "provenance": [],
      "authorship_tag": "ABX9TyPEgsjn1Sj6O0WPfdUQmX8R",
      "include_colab_link": true
    },
    "kernelspec": {
      "name": "python3",
      "display_name": "Python 3"
    },
    "language_info": {
      "name": "python"
    }
  },
  "cells": [
    {
      "cell_type": "markdown",
      "metadata": {
        "id": "view-in-github",
        "colab_type": "text"
      },
      "source": [
        "<a href=\"https://colab.research.google.com/github/Sumit-Nayek/Data-Analytics-ans-Statistics-Assignment/blob/main/Code_mannual_assignment_7.ipynb\" target=\"_parent\"><img src=\"https://colab.research.google.com/assets/colab-badge.svg\" alt=\"Open In Colab\"/></a>"
      ]
    },
    {
      "cell_type": "markdown",
      "source": [
        "Create two vectors and perform the following operations: dot product, element-wise multiplication, and matrix multiplication (using them as column and row vectors)."
      ],
      "metadata": {
        "id": "zIqcfksgV8wG"
      }
    },
    {
      "cell_type": "code",
      "execution_count": 1,
      "metadata": {
        "id": "-xb8pXfixk5R",
        "colab": {
          "base_uri": "https://localhost:8080/"
        },
        "outputId": "b1cfc391-7da0-4419-bd2a-de0dc7add9a0"
      },
      "outputs": [
        {
          "output_type": "stream",
          "name": "stdout",
          "text": [
            "Dot product of vector1 and vector2: 32\n",
            "Element-wise multiplication of vector1 and vector2: [ 4 10 18]\n",
            "Matrix multiplication (outer product) of vector1 and vector2:\n",
            " [[ 4  5  6]\n",
            " [ 8 10 12]\n",
            " [12 15 18]]\n"
          ]
        }
      ],
      "source": [
        "## 1\n",
        "import numpy as np\n",
        "\n",
        "# Create two vectors\n",
        "vector1 = np.array([1, 2, 3])\n",
        "vector2 = np.array([4, 5, 6])\n",
        "\n",
        "# Dot product of vectors\n",
        "dot_product = np.dot(vector1, vector2)\n",
        "print(\"Dot product of vector1 and vector2:\", dot_product)\n",
        "\n",
        "# Element-wise multiplication of vectors\n",
        "element_wise_multiplication = vector1 * vector2\n",
        "print(\"Element-wise multiplication of vector1 and vector2:\", element_wise_multiplication)\n",
        "\n",
        "# Reshape vectors for matrix multiplication\n",
        "vector1_col = vector1.reshape(3, 1)  # Convert to a column vector\n",
        "vector2_row = vector2.reshape(1, 3)  # Convert to a row vector\n",
        "\n",
        "# Matrix multiplication (Outer product)\n",
        "matrix_multiplication = np.dot(vector1_col, vector2_row)\n",
        "print(\"Matrix multiplication (outer product) of vector1 and vector2:\\n\", matrix_multiplication)\n"
      ]
    },
    {
      "cell_type": "markdown",
      "source": [
        "Given a matrix, find its eigenvalues and eigenvectors. Reconstruct the matrix using its eigenvectors and eigenvalues."
      ],
      "metadata": {
        "id": "yc_6Tlb0WIIt"
      }
    },
    {
      "cell_type": "code",
      "source": [
        "## 2\n",
        "import numpy as np\n",
        "\n",
        "# Define a square matrix\n",
        "A = np.array([[4, -2],\n",
        "              [1,  1]])\n",
        "\n",
        "# Calculate eigenvalues and eigenvectors\n",
        "eigenvalues, eigenvectors = np.linalg.eig(A)\n",
        "\n",
        "# Print the eigenvalues\n",
        "print(\"Eigenvalues:\", eigenvalues)\n",
        "\n",
        "# Print the eigenvectors\n",
        "print(\"Eigenvectors:\\n\", eigenvectors)\n",
        "\n",
        "# Reconstruct the matrix using eigenvectors and eigenvalues\n",
        "P = eigenvectors\n",
        "D = np.diag(eigenvalues)\n",
        "P_inv = np.linalg.inv(P)\n",
        "A_reconstructed = P @ D @ P_inv\n",
        "\n",
        "print(\"Reconstructed Matrix:\\n\", A_reconstructed)\n"
      ],
      "metadata": {
        "id": "p02zLDUZVwXm"
      },
      "execution_count": null,
      "outputs": []
    },
    {
      "cell_type": "markdown",
      "source": [
        "Construct a Hadamard matrix of order 4 and perform element-wise multiplication between the Hadamard matrix and another random matrix of the same size."
      ],
      "metadata": {
        "id": "Qqnw8Ly0WPz1"
      }
    },
    {
      "cell_type": "code",
      "source": [
        "## 3\n",
        "from scipy.linalg import hadamard\n",
        "import numpy as np\n",
        "\n",
        "# Generate a Hadamard matrix of order 4\n",
        "H = hadamard(4)\n",
        "\n",
        "# Create a random 4x4 matrix\n",
        "random_matrix = np.random.randint(1, 10, (4, 4))\n",
        "\n",
        "# Element-wise multiplication of Hadamard matrix and random matrix\n",
        "element_wise_multiplication = H * random_matrix\n",
        "print(\"Hadamard Matrix:\\n\", H)\n",
        "print(\"Random Matrix:\\n\", random_matrix)\n",
        "print(\"Element-wise multiplication of Hadamard and random matrix:\\n\", element_wise_multiplication)\n"
      ],
      "metadata": {
        "colab": {
          "base_uri": "https://localhost:8080/"
        },
        "id": "ZnE0AVakVxmd",
        "outputId": "3df67c9a-2500-4a63-f799-af66113c8c9b"
      },
      "execution_count": 2,
      "outputs": [
        {
          "output_type": "stream",
          "name": "stdout",
          "text": [
            "Hadamard Matrix:\n",
            " [[ 1  1  1  1]\n",
            " [ 1 -1  1 -1]\n",
            " [ 1  1 -1 -1]\n",
            " [ 1 -1 -1  1]]\n",
            "Random Matrix:\n",
            " [[7 8 5 4]\n",
            " [3 8 8 9]\n",
            " [4 8 1 3]\n",
            " [9 4 8 1]]\n",
            "Element-wise multiplication of Hadamard and random matrix:\n",
            " [[ 7  8  5  4]\n",
            " [ 3 -8  8 -9]\n",
            " [ 4  8 -1 -3]\n",
            " [ 9 -4 -8  1]]\n"
          ]
        }
      ]
    },
    {
      "cell_type": "markdown",
      "source": [
        "Solve the following system of equations using matrix methods:\n",
        "\n",
        "2\n",
        "𝑥\n",
        "+\n",
        "3\n",
        "𝑦\n",
        "+\n",
        "1\n",
        "𝑧\n",
        "=\n",
        "10\n",
        "\n",
        "4\n",
        "𝑥\n",
        "+\n",
        "𝑦\n",
        "+\n",
        "2\n",
        "𝑧\n",
        "=\n",
        "12\n",
        "\n",
        "3\n",
        "𝑥\n",
        "+\n",
        "2\n",
        "𝑦\n",
        "+\n",
        "4\n",
        "𝑧\n",
        "=\n",
        "18\n"
      ],
      "metadata": {
        "id": "9wGzje1-WVMl"
      }
    },
    {
      "cell_type": "code",
      "source": [
        "import numpy as np\n",
        "\n",
        "# Coefficient matrix A\n",
        "A = np.array([[2, 3, 1],\n",
        "              [4, 1, 2],\n",
        "              [3, 2, 4]])\n",
        "\n",
        "# Constant matrix B\n",
        "B = np.array([10, 12, 18])\n",
        "\n",
        "# Solve the system A * [x, y, z] = B\n",
        "solution = np.linalg.solve(A, B)\n",
        "\n",
        "print(\"Solution for [x, y, z]:\", solution)\n"
      ],
      "metadata": {
        "colab": {
          "base_uri": "https://localhost:8080/"
        },
        "id": "_bO6gybZVyrN",
        "outputId": "dabda097-2e05-4a8b-d1d8-0ed0d403f6eb"
      },
      "execution_count": 8,
      "outputs": [
        {
          "output_type": "stream",
          "name": "stdout",
          "text": [
            "Solution for [x, y, z]: [1.2 1.6 2.8]\n"
          ]
        }
      ]
    },
    {
      "cell_type": "markdown",
      "source": [
        "Solve the system of linear equations using matrix methods:\n",
        "\n",
        "2\n",
        "𝑥\n",
        "+\n",
        "3\n",
        "𝑦\n",
        "=\n",
        "5\n",
        "\n",
        "4\n",
        "𝑥\n",
        "+\n",
        "𝑦\n",
        "=\n",
        "6"
      ],
      "metadata": {
        "id": "YU8MYNg3W51F"
      }
    },
    {
      "cell_type": "code",
      "source": [
        "## 5\n",
        "import numpy as np\n",
        "\n",
        "# Coefficient matrix A\n",
        "A = np.array([[2, 3],\n",
        "              [4, 1]])\n",
        "\n",
        "# Constant matrix B\n",
        "B = np.array([5, 6])\n",
        "\n",
        "# Solve the system of equations A * [x, y] = B\n",
        "solution = np.linalg.solve(A, B)\n",
        "\n",
        "print(\"Solution for [x, y]:\", solution)\n"
      ],
      "metadata": {
        "colab": {
          "base_uri": "https://localhost:8080/"
        },
        "id": "c6gFBZcEVzqv",
        "outputId": "195471e6-fd83-4bc3-90b1-d1d80800704b"
      },
      "execution_count": 7,
      "outputs": [
        {
          "output_type": "stream",
          "name": "stdout",
          "text": [
            "Solution for [x, y]: [1.3 0.8]\n"
          ]
        }
      ]
    }
  ]
}