{
  "nbformat": 4,
  "nbformat_minor": 0,
  "metadata": {
    "colab": {
      "provenance": []
    },
    "kernelspec": {
      "name": "python3",
      "display_name": "Python 3"
    },
    "language_info": {
      "name": "python"
    }
  },
  "cells": [
    {
      "cell_type": "code",
      "execution_count": 1,
      "metadata": {
        "colab": {
          "base_uri": "https://localhost:8080/"
        },
        "id": "MquUXpPHtuIu",
        "outputId": "88dafbcf-a023-4479-c659-e835c55bd043"
      },
      "outputs": [
        {
          "output_type": "stream",
          "name": "stdout",
          "text": [
            "Expected number of defective bulbs (E(X)): 1.65\n",
            "Variance (Var(X)): 1.53\n",
            "Standard Deviation (σ): 1.24\n",
            "Chebyshev’s inequality bound for k = 2: 0.25\n"
          ]
        }
      ],
      "source": [
        "## Analyzing Defective Products at a Factory\n",
        "# Values and corresponding probabilities\n",
        "defective_bulbs = [0, 1, 2, 3, 4]\n",
        "probabilities = [0.2, 0.3, 0.25, 0.15, 0.1]\n",
        "\n",
        "# Step 1: Calculate the expected number of defective bulbs (E(X))\n",
        "expected_value = sum([x * p for x, p in zip(defective_bulbs, probabilities)])\n",
        "print(f\"Expected number of defective bulbs (E(X)): {expected_value:.2f}\")\n",
        "\n",
        "# Step 2: Calculate variance and standard deviation\n",
        "# E(X^2) = sum(x^2 * p)\n",
        "expected_value_squared = sum([x**2 * p for x, p in zip(defective_bulbs, probabilities)])\n",
        "variance = expected_value_squared - expected_value**2\n",
        "std_deviation = variance**0.5\n",
        "\n",
        "print(f\"Variance (Var(X)): {variance:.2f}\")\n",
        "print(f\"Standard Deviation (σ): {std_deviation:.2f}\")\n",
        "\n",
        "# Step 3: Apply Chebyshev's inequality for k = 2 (deviation by more than 2 bulbs)\n",
        "k = 2\n",
        "chebyshev_bound = 1 / k**2\n",
        "print(f\"Chebyshev’s inequality bound for k = 2: {chebyshev_bound:.2f}\")\n"
      ]
    },
    {
      "cell_type": "code",
      "source": [
        "## Measuring Water Levels in a Reservoir\n",
        "import math\n",
        "\n",
        "# Given values\n",
        "mean = 25\n",
        "std_dev = 3\n",
        "# Step 1: Manual approximation for probability between 22 and 28 (normal distribution)\n",
        "def z_score(x, mean, std_dev):\n",
        "    return (x - mean) / std_dev\n",
        "# Z-scores for 22 and 28\n",
        "z_22 = z_score(22, mean, std_dev)\n",
        "z_28 = z_score(28, mean, std_dev)\n",
        "# Using approximate values for Z-tables (lookup for z-scores)\n",
        "# P(22 <= X <= 28) ~ P(Z_22 <= Z <= Z_28)\n",
        "P_22 = 0.1587  # Approx for Z = -1.00\n",
        "P_28 = 0.8413  # Approx for Z = +1.00\n",
        "probability_between = P_28 - P_22\n",
        "print(f\"Probability that water level is between 22 and 28 meters: {probability_between:.4f}\")\n",
        "# Step 2: CDF for water level of 30 meters (z-score for 30)\n",
        "z_30 = z_score(30, mean, std_dev)\n",
        "P_30 = 0.9772  # Approx for Z = +1.67\n",
        "print(f\"CDF for water level of 30 meters: {P_30:.4f}\")\n",
        "# Step 3: Chebyshev's inequality for deviation more than 5 meters (k = 5/3)\n",
        "k = 5 / std_dev\n",
        "chebyshev_bound = 1 / k**2\n",
        "print(f\"Chebyshev’s inequality bound for deviation more than 5 meters: {chebyshev_bound:.4f}\")\n"
      ],
      "metadata": {
        "colab": {
          "base_uri": "https://localhost:8080/"
        },
        "id": "9khC_JTwuAUU",
        "outputId": "838ff482-4034-4320-c055-0fef98cebedb"
      },
      "execution_count": 2,
      "outputs": [
        {
          "output_type": "stream",
          "name": "stdout",
          "text": [
            "Probability that water level is between 22 and 28 meters: 0.6826\n",
            "CDF for water level of 30 meters: 0.9772\n",
            "Chebyshev’s inequality bound for deviation more than 5 meters: 0.3600\n"
          ]
        }
      ]
    },
    {
      "cell_type": "code",
      "source": [
        "## Number of Customers at a Bank\n",
        "# Number of customers and probabilities\n",
        "customers = [0, 1, 2, 3, 4, 5]\n",
        "customer_probabilities = [0.1, 0.2, 0.3, 0.2, 0.15, 0.05]\n",
        "# Step 1: Calculate expected number of customers\n",
        "expected_customers = sum([c * p for c, p in zip(customers, customer_probabilities)])\n",
        "print(f\"Expected number of customers (E(X)): {expected_customers:.2f}\")\n",
        "# Step 2: Moment generating function MGF(t) = E(e^(tX))\n",
        "def mgf(t):\n",
        "    return sum([p * math.exp(t * c) for c, p in zip(customers, customer_probabilities)])\n",
        "t = 1  # Let's calculate MGF at t=1\n",
        "mgf_value = mgf(t)\n",
        "print(f\"Moment generating function (MGF) at t=1: {mgf_value:.4f}\")\n",
        "# Step 3: Apply Chebyshev's inequality for k = 3 (deviation by more than 3 customers)\n",
        "expected_squared = sum([c**2 * p for c, p in zip(customers, customer_probabilities)])\n",
        "variance_customers = expected_squared - expected_customers**2\n",
        "std_deviation_customers = variance_customers**0.5\n",
        "k = 3 / std_deviation_customers\n",
        "chebyshev_bound_customers = 1 / k**2\n",
        "print(f\"Chebyshev’s inequality bound for k = 3: {chebyshev_bound_customers:.4f}\")\n"
      ],
      "metadata": {
        "colab": {
          "base_uri": "https://localhost:8080/"
        },
        "id": "d5K3HG7vuaWk",
        "outputId": "60d9926a-e2f9-42e7-d73c-52758cb87516"
      },
      "execution_count": 3,
      "outputs": [
        {
          "output_type": "stream",
          "name": "stdout",
          "text": [
            "Expected number of customers (E(X)): 2.25\n",
            "Moment generating function (MGF) at t=1: 22.4879\n",
            "Chebyshev’s inequality bound for k = 3: 0.1986\n"
          ]
        }
      ]
    },
    {
      "cell_type": "code",
      "source": [
        "## Fuel Consumption of Cars\n",
        "import math\n",
        "\n",
        "# Given data\n",
        "mean = 7.5\n",
        "std_dev = 0.5\n",
        "# Step 1: Calculate Z-scores for 7 and 8 liters of fuel\n",
        "def z_score(x, mean, std_dev):\n",
        "    return (x - mean) / std_dev\n",
        "z_7 = z_score(7, mean, std_dev)\n",
        "z_8 = z_score(8, mean, std_dev)\n",
        "# Approximate cumulative probabilities for standard normal distribution (using Z-table values)\n",
        "# For Z-scores:\n",
        "# Z_7 ≈ -1.00 -> P(Z <= Z_7) ≈ 0.1587\n",
        "# Z_8 ≈ +1.00 -> P(Z <= Z_8) ≈ 0.8413\n",
        "P_7 = 0.1587  # Approx for Z = -1.00\n",
        "P_8 = 0.8413  # Approx for Z = +1.00\n",
        "# Probability that the car consumes between 7 and 8 liters of fuel\n",
        "probability_between = P_8 - P_7\n",
        "print(f\"Probability that fuel consumption is between 7 and 8 liters: {probability_between:.4f}\")\n",
        "# Step 2: CDF for fuel consumption of 6.5 liters (find Z-score and approximate CDF)\n",
        "z_6_5 = z_score(6.5, mean, std_dev)\n",
        "# Z_6_5 ≈ -2.00 -> P(Z <= Z_6_5) ≈ 0.0228 (from Z-table)\n",
        "P_6_5 = 0.0228\n",
        "print(f\"CDF for fuel consumption of 6.5 liters: {P_6_5:.4f}\")\n",
        "# Step 3: Apply Chebyshev's inequality for deviation more than 1.5 liters\n",
        "# Chebyshev's inequality: P(|X - μ| >= kσ) <= 1/k^2\n",
        "k = 1.5 / std_dev\n",
        "chebyshev_bound = 1 / k**2\n",
        "print(f\"Chebyshev’s inequality bound for deviation more than 1.5 liters: {chebyshev_bound:.4f}\")\n"
      ],
      "metadata": {
        "colab": {
          "base_uri": "https://localhost:8080/"
        },
        "id": "gs54V5h9up5r",
        "outputId": "677db4ea-72a1-42c8-9947-1384096f6023"
      },
      "execution_count": 6,
      "outputs": [
        {
          "output_type": "stream",
          "name": "stdout",
          "text": [
            "Probability that fuel consumption is between 7 and 8 liters: 0.6826\n",
            "CDF for fuel consumption of 6.5 liters: 0.0228\n",
            "Chebyshev’s inequality bound for deviation more than 1.5 liters: 0.1111\n"
          ]
        }
      ]
    },
    {
      "cell_type": "code",
      "source": [
        "## Probability of Rolling a Die\n",
        "# Total number of outcomes when rolling a fair six-sided die\n",
        "total_outcomes = 6\n",
        "\n",
        "# Step 1: Probability of rolling a number greater than 4 (i.e., rolling a 5 or 6)\n",
        "favorable_outcomes_greater_than_4 = [5, 6]\n",
        "probability_greater_than_4 = len(favorable_outcomes_greater_than_4) / total_outcomes\n",
        "print(f\"Probability of rolling a number greater than 4: {probability_greater_than_4:.4f}\")\n",
        "# Step 2: Probability of rolling either an odd number or a number greater than 4\n",
        "odd_numbers = [1, 3, 5]\n",
        "numbers_greater_than_4 = [5, 6]\n",
        "common_outcome = [5]\n",
        "# Using the addition rule: P(A or B) = P(A) + P(B) - P(A and B)\n",
        "probability_odd = len(odd_numbers) / total_outcomes\n",
        "probability_odd_or_greater_than_4 = probability_odd + probability_greater_than_4 - len(common_outcome) / total_outcomes\n",
        "print(f\"Probability of rolling either an odd number or a number greater than 4: {probability_odd_or_greater_than_4:.4f}\")\n",
        "# Step 3: Conditional probability of rolling an odd number given that the roll was greater than 4\n",
        "# Conditional probability: P(A|B) = P(A and B) / P(B)\n",
        "# A: odd number, B: number greater than 4\n",
        "# A and B: rolling a 5 (the only odd number greater than 4)\n",
        "probability_odd_given_greater_than_4 = len(common_outcome) / len(favorable_outcomes_greater_than_4)\n",
        "print(f\"Conditional probability of rolling an odd number given the roll was greater than 4: {probability_odd_given_greater_than_4:.4f}\")\n"
      ],
      "metadata": {
        "colab": {
          "base_uri": "https://localhost:8080/"
        },
        "id": "GDiodfcUvizE",
        "outputId": "1b05a188-08ed-45be-ea4c-eda4ebff43e9"
      },
      "execution_count": 7,
      "outputs": [
        {
          "output_type": "stream",
          "name": "stdout",
          "text": [
            "Probability of rolling a number greater than 4: 0.3333\n",
            "Probability of rolling either an odd number or a number greater than 4: 0.6667\n",
            "Conditional probability of rolling an odd number given the roll was greater than 4: 0.5000\n"
          ]
        }
      ]
    }
  ]
}