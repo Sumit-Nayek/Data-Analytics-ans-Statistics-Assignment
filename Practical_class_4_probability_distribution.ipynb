{
  "nbformat": 4,
  "nbformat_minor": 0,
  "metadata": {
    "colab": {
      "provenance": [],
      "authorship_tag": "ABX9TyMP4m/3RhoJN4oB/KJ1Y8Pi",
      "include_colab_link": true
    },
    "kernelspec": {
      "name": "python3",
      "display_name": "Python 3"
    },
    "language_info": {
      "name": "python"
    }
  },
  "cells": [
    {
      "cell_type": "markdown",
      "metadata": {
        "id": "view-in-github",
        "colab_type": "text"
      },
      "source": [
        "<a href=\"https://colab.research.google.com/github/Sumit-Nayek/Data-Analytics-ans-Statistics-Assignment/blob/main/Practical_class_4_probability_distribution.ipynb\" target=\"_parent\"><img src=\"https://colab.research.google.com/assets/colab-badge.svg\" alt=\"Open In Colab\"/></a>"
      ]
    },
    {
      "cell_type": "markdown",
      "source": [
        "1. A manufacturing company produces 80% of its products as defect-free. If a quality inspector checks 10 randomly selected products, what is the probability that exactly 7 of them are defect-free?"
      ],
      "metadata": {
        "id": "1dAH-V3f0PEz"
      }
    },
    {
      "cell_type": "code",
      "execution_count": null,
      "metadata": {
        "id": "NdgkavUlw7cB"
      },
      "outputs": [],
      "source": [
        "##\n",
        "# Function to calculate factorial\n",
        "def factorial(n):\n",
        "    if n == 0 or n == 1:\n",
        "        return 1\n",
        "    else:\n",
        "        result = 1\n",
        "        for i in range(2, n + 1):\n",
        "            result *= i\n",
        "        return result\n",
        "\n",
        "# Function to calculate binomial coefficient C(n, k)\n",
        "def binomial_coefficient(n, k):\n",
        "    return factorial(n) // (factorial(k) * factorial(n - k))\n",
        "\n",
        "# Function to calculate binomial probability\n",
        "def binomial_probability(n, k, p):\n",
        "    binom_coeff = binomial_coefficient(n, k)\n",
        "    probability = binom_coeff * (p ** k) * ((1 - p) ** (n - k))\n",
        "    return probability\n",
        "\n",
        "# Parameters\n",
        "n = 10  # Number of products checked\n",
        "k = 7   # Number of defect-free products required\n",
        "p = 0.8 # Probability of a product being defect-free\n",
        "\n",
        "# Calculate the probability\n",
        "result = binomial_probability(n, k, p)\n",
        "\n",
        "# Print the result\n",
        "print(f\"The probability that exactly 7 of the 10 products are defect-free is: {result:.5f}\")\n"
      ]
    },
    {
      "cell_type": "markdown",
      "source": [
        "2. A call center receives an average of 15 calls per hour. What is the probability that in a given 30-minute interval, the call center will receive more than 10 calls?"
      ],
      "metadata": {
        "id": "0P9miR6n0ugo"
      }
    },
    {
      "cell_type": "code",
      "source": [
        "import math\n",
        "\n",
        "# Function to calculate Poisson probability for P(X = k)\n",
        "def poisson_probability(k, lambd):\n",
        "    return (lambd ** k * math.exp(-lambd)) / math.factorial(k)\n",
        "\n",
        "# Function to calculate P(X > 10)\n",
        "def poisson_more_than_k(k, lambd):\n",
        "    # Calculate P(X <= k) = sum of P(X = i) for i = 0, 1, ..., k\n",
        "    cumulative_prob = 0\n",
        "    for i in range(0, k + 1):\n",
        "        cumulative_prob += poisson_probability(i, lambd)\n",
        "\n",
        "    # P(X > k) = 1 - P(X <= k)\n",
        "    return 1 - cumulative_prob\n",
        "\n",
        "# Parameters\n",
        "lambd = 7.5  # Expected number of calls in 30 minutes\n",
        "k = 10       # Threshold number of calls\n",
        "\n",
        "# Calculate the probability of receiving more than 10 calls\n",
        "result = poisson_more_than_k(k, lambd)\n",
        "\n",
        "# Print the result\n",
        "print(f\"The probability of receiving more than 10 calls in 30 minutes is: {result:.5f}\")\n"
      ],
      "metadata": {
        "colab": {
          "base_uri": "https://localhost:8080/"
        },
        "id": "k21o2Yf204zp",
        "outputId": "df273ff2-4e9c-481c-beea-3f729d6b9c6e"
      },
      "execution_count": null,
      "outputs": [
        {
          "output_type": "stream",
          "name": "stdout",
          "text": [
            "The probability of receiving more than 10 calls in 30 minutes is: 0.13776\n"
          ]
        }
      ]
    },
    {
      "cell_type": "markdown",
      "source": [
        "3. A deck of 52 cards contains 12 face cards. If you randomly select 5 cards from the deck, what is the probability that exactly 2 face cards are selected? \" Soluiton in python witout using inbuild function\"."
      ],
      "metadata": {
        "id": "OlFPsqnN-Zp0"
      }
    },
    {
      "cell_type": "code",
      "source": [
        "# Function to calculate factorial\n",
        "def factorial(n):\n",
        "    if n == 0 or n == 1:\n",
        "        return 1\n",
        "    else:\n",
        "        result = 1\n",
        "        for i in range(2, n + 1):\n",
        "            result *= i\n",
        "        return result\n",
        "\n",
        "# Function to calculate binomial coefficient C(n, k)\n",
        "def binomial_coefficient(n, k):\n",
        "    return factorial(n) // (factorial(k) * factorial(n - k))\n",
        "\n",
        "# Function to calculate hypergeometric probability\n",
        "def hypergeometric_probability(K, k, N, n):\n",
        "    # Calculate the numerator: C(K, k) * C(N-K, n-k)\n",
        "    numerator = binomial_coefficient(K, k) * binomial_coefficient(N - K, n - k)\n",
        "    # Calculate the denominator: C(N, n)\n",
        "    denominator = binomial_coefficient(N, n)\n",
        "    # Return the probability\n",
        "    return numerator / denominator\n",
        "\n",
        "# Parameters\n",
        "N = 52  # Total number of cards in the deck\n",
        "K = 12  # Total number of face cards in the deck\n",
        "n = 5   # Number of cards selected\n",
        "k = 2   # Number of face cards we want to select\n",
        "\n",
        "# Calculate the probability\n",
        "result = hypergeometric_probability(K, k, N, n)\n",
        "\n",
        "# Print the result\n",
        "print(f\"The probability of selecting exactly 2 face cards is: {result:.5f}\")\n"
      ],
      "metadata": {
        "colab": {
          "base_uri": "https://localhost:8080/"
        },
        "id": "OfKj9_KI-xKs",
        "outputId": "077eabff-0dae-4ad9-938e-cbb2e3b11be2"
      },
      "execution_count": null,
      "outputs": [
        {
          "output_type": "stream",
          "name": "stdout",
          "text": [
            "The probability of selecting exactly 2 face cards is: 0.25090\n"
          ]
        }
      ]
    },
    {
      "cell_type": "markdown",
      "source": [
        "4. In a Bayesian framework, the success rate of a process is modeled using a Beta distribution with parameters α=5 and β=3. What is the expected value of the success rate?"
      ],
      "metadata": {
        "id": "IV_pGE6H_OQt"
      }
    },
    {
      "cell_type": "code",
      "source": [
        "# Parameters for the Beta distribution\n",
        "alpha = 5\n",
        "beta = 3\n",
        "\n",
        "# Calculate the expected value of the Beta distribution\n",
        "expected_value = alpha / (alpha + beta)\n",
        "\n",
        "# Print the result\n",
        "print(f\"The expected value of the success rate for the Beta distribution with α={alpha} and β={beta} is: {expected_value:.4f}\")\n"
      ],
      "metadata": {
        "colab": {
          "base_uri": "https://localhost:8080/"
        },
        "id": "UDhRg5rg_lwM",
        "outputId": "1f822111-3be6-4052-a77c-247873266942"
      },
      "execution_count": null,
      "outputs": [
        {
          "output_type": "stream",
          "name": "stdout",
          "text": [
            "The expected value of the success rate for the Beta distribution with α=5 and β=3 is: 0.6250\n"
          ]
        }
      ]
    },
    {
      "cell_type": "markdown",
      "source": [
        "5. The time to failure for a machine part is modeled using a Gamma distribution with shape parameter k=and rate parameter λ=0.5. What is the expected time to failure?"
      ],
      "metadata": {
        "id": "1EsJ3H_Q_6SL"
      }
    },
    {
      "cell_type": "code",
      "source": [
        "# Parameters for the Gamma distribution\n",
        "k = 5  # Example value for the shape parameter, replace with the actual value\n",
        "lambda_rate = 0.5  # Rate parameter\n",
        "\n",
        "# Calculate the expected time to failure\n",
        "expected_time_to_failure = k / lambda_rate\n",
        "\n",
        "# Print the result\n",
        "print(f\"The expected time to failure for the Gamma distribution with shape parameter k={k} and rate parameter λ={lambda_rate} is: {expected_time_to_failure:.4f}\")\n"
      ],
      "metadata": {
        "colab": {
          "base_uri": "https://localhost:8080/"
        },
        "id": "KEd1mDOd_5QD",
        "outputId": "accb5221-626e-4ff8-d732-64b470b8c47a"
      },
      "execution_count": null,
      "outputs": [
        {
          "output_type": "stream",
          "name": "stdout",
          "text": [
            "The expected time to failure for the Gamma distribution with shape parameter k=5 and rate parameter λ=0.5 is: 10.0000\n"
          ]
        }
      ]
    }
  ]
}