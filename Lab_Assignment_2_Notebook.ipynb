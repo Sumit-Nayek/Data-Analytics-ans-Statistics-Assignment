{
  "cells": [
    {
      "cell_type": "markdown",
      "metadata": {
        "id": "view-in-github",
        "colab_type": "text"
      },
      "source": [
        "<a href=\"https://colab.research.google.com/github/Sumit-Nayek/Data-Analytics-ans-Statistics-Assignment/blob/main/Lab_Assignment_2_Notebook.ipynb\" target=\"_parent\"><img src=\"https://colab.research.google.com/assets/colab-badge.svg\" alt=\"Open In Colab\"/></a>"
      ]
    },
    {
      "cell_type": "markdown",
      "id": "62d8e84f",
      "metadata": {
        "id": "62d8e84f"
      },
      "source": [
        "# Lab Assignment: Simulation Tasks"
      ]
    },
    {
      "cell_type": "markdown",
      "id": "8acfb12a",
      "metadata": {
        "id": "8acfb12a"
      },
      "source": [
        "## 1. Simulate Tossing a Fair Coin 1,000 Times"
      ]
    },
    {
      "cell_type": "markdown",
      "id": "f3c5d1ed",
      "metadata": {
        "id": "f3c5d1ed"
      },
      "source": [
        "In this task, we simulate tossing a fair coin 1,000 times and estimate the probability of getting heads or tails."
      ]
    },
    {
      "cell_type": "code",
      "execution_count": null,
      "id": "ed749dcc",
      "metadata": {
        "colab": {
          "base_uri": "https://localhost:8080/"
        },
        "id": "ed749dcc",
        "outputId": "24d96cbd-1d64-4d98-9a3a-ba9d70ee99f4"
      },
      "outputs": [
        {
          "output_type": "execute_result",
          "data": {
            "text/plain": [
              "(493, 507, 0.493, 0.507)"
            ]
          },
          "metadata": {},
          "execution_count": 3
        }
      ],
      "source": [
        "import random\n",
        "\n",
        "def simulate_fair_coin_tosses(n_tosses=1000):\n",
        "    heads_count = 0\n",
        "    tails_count = 0\n",
        "\n",
        "    for i in range(n_tosses):\n",
        "        toss = random.choice(['heads', 'tails'])\n",
        "        if toss == 'heads':\n",
        "            heads_count += 1\n",
        "        else:\n",
        "            tails_count += 1\n",
        "\n",
        "    prob_heads = heads_count / n_tosses\n",
        "    prob_tails = tails_count / n_tosses\n",
        "\n",
        "    return heads_count, tails_count, prob_heads, prob_tails\n",
        "\n",
        "fair_coin_results = simulate_fair_coin_tosses()\n",
        "fair_coin_results\n"
      ]
    },
    {
      "cell_type": "markdown",
      "id": "d983b2cf",
      "metadata": {
        "id": "d983b2cf"
      },
      "source": [
        "## 2. Simulate Rolling Two Six-Sided Dice 10,000 Times"
      ]
    },
    {
      "cell_type": "markdown",
      "id": "bf4f8fbd",
      "metadata": {
        "id": "bf4f8fbd"
      },
      "source": [
        "In this task, we simulate rolling two six-sided dice 10,000 times and calculate the probability of each possible sum (from 2 to 12)."
      ]
    },
    {
      "cell_type": "code",
      "execution_count": null,
      "id": "e88032fd",
      "metadata": {
        "colab": {
          "base_uri": "https://localhost:8080/"
        },
        "id": "e88032fd",
        "outputId": "b6f72426-1bd6-46f6-d718-a1963f3aa899"
      },
      "outputs": [
        {
          "output_type": "stream",
          "name": "stdout",
          "text": [
            "Dice Roll Results out of 10000 (Counts for each sum):\n",
            "Sum 2: 258\n",
            "Sum 3: 563\n",
            "Sum 4: 898\n",
            "Sum 5: 1069\n",
            "Sum 6: 1322\n",
            "Sum 7: 1678\n",
            "Sum 8: 1451\n",
            "Sum 9: 1108\n",
            "Sum 10: 816\n",
            "Sum 11: 554\n",
            "Sum 12: 283\n",
            "\n",
            "Dice Roll Probabilities:\n",
            "Sum 2: 0.0258\n",
            "Sum 3: 0.0563\n",
            "Sum 4: 0.0898\n",
            "Sum 5: 0.1069\n",
            "Sum 6: 0.1322\n",
            "Sum 7: 0.1678\n",
            "Sum 8: 0.1451\n",
            "Sum 9: 0.1108\n",
            "Sum 10: 0.0816\n",
            "Sum 11: 0.0554\n",
            "Sum 12: 0.0283\n"
          ]
        }
      ],
      "source": [
        "import random\n",
        "\n",
        "def simulate_dice_rolls(n_rolls=10000):\n",
        "    sums = [0] * 11  # Sums from 2 to 12 (index 0 for sum 2, index 10 for sum 12)\n",
        "    for i in range(n_rolls):\n",
        "        dice_sum = random.randint(1, 6) + random.randint(1, 6)\n",
        "        sums[dice_sum - 2] += 1  # Increment the count for the sum\n",
        "\n",
        "    probabilities = [count / n_rolls for count in sums]\n",
        "    return sums, probabilities\n",
        "\n",
        "dice_roll_results, dice_probabilities = simulate_dice_rolls()\n",
        "\n",
        "# Properly presenting the dice roll results and probabilities\n",
        "print(\"Dice Roll Results out of 10000 (Counts for each sum):\")\n",
        "for i, count in enumerate(dice_roll_results, start=2):\n",
        "    print(f\"Sum {i}: {count}\")\n",
        "\n",
        "print(\"\\nDice Roll Probabilities:\")\n",
        "for i, prob in enumerate(dice_probabilities, start=2):\n",
        "    print(f\"Sum {i}: {prob:.4f}\")"
      ]
    },
    {
      "cell_type": "markdown",
      "id": "d4a58dff",
      "metadata": {
        "id": "d4a58dff"
      },
      "source": [
        "## 3. Simulate Flipping a Biased Coin 1,000 Times"
      ]
    },
    {
      "cell_type": "markdown",
      "id": "ca848cdb",
      "metadata": {
        "id": "ca848cdb"
      },
      "source": [
        "In this task, we simulate flipping a biased coin (where the probability of heads is 0.7) 1,000 times and calculate the relative frequency of heads and tails."
      ]
    },
    {
      "cell_type": "code",
      "execution_count": null,
      "id": "20dd5b61",
      "metadata": {
        "colab": {
          "base_uri": "https://localhost:8080/"
        },
        "id": "20dd5b61",
        "outputId": "8ca93ef7-34d2-4122-f26e-1808b17e9955"
      },
      "outputs": [
        {
          "output_type": "execute_result",
          "data": {
            "text/plain": [
              "(698, 302, 0.698, 0.302)"
            ]
          },
          "metadata": {},
          "execution_count": 2
        }
      ],
      "source": [
        "def simulate_biased_coin_tosses(n_tosses=1000, prob_heads=0.7):\n",
        "    heads_count = 0\n",
        "    tails_count = 0\n",
        "\n",
        "    for i in range(n_tosses):\n",
        "        if random.random() < prob_heads:\n",
        "            heads_count += 1\n",
        "        else:\n",
        "            tails_count += 1\n",
        "\n",
        "    freq_heads = heads_count / n_tosses\n",
        "    freq_tails = tails_count / n_tosses\n",
        "\n",
        "    return heads_count, tails_count, freq_heads, freq_tails\n",
        "\n",
        "biased_coin_results = simulate_biased_coin_tosses()\n",
        "biased_coin_results\n"
      ]
    }
  ],
  "metadata": {
    "colab": {
      "provenance": [],
      "include_colab_link": true
    },
    "language_info": {
      "name": "python"
    },
    "kernelspec": {
      "name": "python3",
      "display_name": "Python 3"
    }
  },
  "nbformat": 4,
  "nbformat_minor": 5
}